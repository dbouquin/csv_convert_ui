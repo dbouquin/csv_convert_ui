{
 "cells": [
  {
   "cell_type": "code",
   "execution_count": 14,
   "id": "f9ca8b45-3a16-4753-bfcc-66c38749c022",
   "metadata": {
    "tags": []
   },
   "outputs": [],
   "source": [
    "import pandas as pd"
   ]
  },
  {
   "cell_type": "code",
   "execution_count": 15,
   "id": "2c354f68-4415-4d3d-8add-31451110acce",
   "metadata": {
    "tags": []
   },
   "outputs": [],
   "source": [
    "df = pd.read_csv(\"qtool_export_structure.csv\", encoding = 'ISO-8859-1', low_memory = False)"
   ]
  },
  {
   "cell_type": "code",
   "execution_count": 16,
   "id": "d95f0099-d24b-4ba6-a1a6-b386063cf538",
   "metadata": {
    "tags": []
   },
   "outputs": [],
   "source": [
    "df_sample = df.sample(n=66)"
   ]
  },
  {
   "cell_type": "code",
   "execution_count": 17,
   "id": "b84474a2-492b-480a-b7c8-57be176be820",
   "metadata": {
    "tags": []
   },
   "outputs": [],
   "source": [
    "df_problem_recs = [101091296,\n",
    "                    100223080,\n",
    "                    94089174,\n",
    "                    101089356,\n",
    "                    92226711,\n",
    "                    32158701,\n",
    "                    87257374,\n",
    "                    100668540,\n",
    "                    99653875,\n",
    "                    100968369,\n",
    "                    99771495,\n",
    "                    40617938,\n",
    "                    44649176,\n",
    "                    100980324,\n",
    "                    100459558,\n",
    "                    98912116,\n",
    "                    100819782,\n",
    "                    736553,\n",
    "                    40925158,\n",
    "                    85731388,\n",
    "                    100382894,\n",
    "                    61465,\n",
    "                    37437878,\n",
    "                    99709719,\n",
    "                    101091090,\n",
    "                    101090083,\n",
    "                    8819385,\n",
    "                    101088952,\n",
    "                    101093816,\n",
    "                    101090113,\n",
    "                    101095053,\n",
    "                    100710508,\n",
    "                    98657869,\n",
    "                    101093633]"
   ]
  },
  {
   "cell_type": "code",
   "execution_count": 18,
   "id": "b750f527-4e4a-4979-b287-fcef71ce5e8b",
   "metadata": {
    "tags": []
   },
   "outputs": [],
   "source": [
    "filtered_df = df[df['ROI_ID'].isin(df_problem_recs)]"
   ]
  },
  {
   "cell_type": "code",
   "execution_count": 21,
   "id": "c734e55e-6a7d-4733-887f-e3f5a04899f3",
   "metadata": {
    "tags": []
   },
   "outputs": [],
   "source": [
    "combined_df = pd.concat([filtered_df, df_sample], axis=0)"
   ]
  },
  {
   "cell_type": "code",
   "execution_count": 23,
   "id": "b6950508-a46b-4133-a98b-799d4ac4ded9",
   "metadata": {
    "tags": []
   },
   "outputs": [],
   "source": [
    "combined_df = combined_df.sort_values(by=['ROI_ID', 'LASTNAME'])"
   ]
  },
  {
   "cell_type": "code",
   "execution_count": 26,
   "id": "047ca579-150e-4c21-97f7-d67fa092506b",
   "metadata": {
    "tags": []
   },
   "outputs": [],
   "source": [
    "combined_df.to_csv('qtool_ui_test.csv', index = False)"
   ]
  },
  {
   "cell_type": "code",
   "execution_count": null,
   "id": "467709c3-e1d6-4070-9117-93a7c4f8296d",
   "metadata": {},
   "outputs": [],
   "source": []
  }
 ],
 "metadata": {
  "kernelspec": {
   "display_name": "Python 3 (ipykernel)",
   "language": "python",
   "name": "python3"
  },
  "language_info": {
   "codemirror_mode": {
    "name": "ipython",
    "version": 3
   },
   "file_extension": ".py",
   "mimetype": "text/x-python",
   "name": "python",
   "nbconvert_exporter": "python",
   "pygments_lexer": "ipython3",
   "version": "3.9.16"
  }
 },
 "nbformat": 4,
 "nbformat_minor": 5
}
